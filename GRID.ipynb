{
 "cells": [
  {
   "cell_type": "markdown",
   "metadata": {},
   "source": [
    "### Sequential Learning for Multi-Channel Wireless Network Monitoring With Channel Switching Costs"
   ]
  },
  {
   "cell_type": "code",
   "execution_count": 1,
   "metadata": {},
   "outputs": [],
   "source": [
    "%matplotlib inline\n",
    "import matplotlib.pyplot as plt\n",
    "from matplotlib.patches import RegularPolygon\n",
    "import numpy as np\n",
    "from math import pi\n",
    "import itertools\n",
    "import random"
   ]
  },
  {
   "cell_type": "code",
   "execution_count": 2,
   "metadata": {},
   "outputs": [],
   "source": [
    "class AP:\n",
    "    count = 0\n",
    "    \n",
    "    def __init__(self, x, y, channel):\n",
    "        AP.count += 1\n",
    "        self.x = x\n",
    "        self.y = y\n",
    "        self.channel = channel\n",
    "        self.radius = 86\n",
    "\n",
    "    def __str__(self):\n",
    "        return \"AP at (\" + str(self.x) + \", \" + str(self.y) + \") and channel \" + str(self.channel)\n",
    "        \n",
    "    def in_hexagon(self, x, y):\n",
    "        x = abs(x - self.x)\n",
    "        y = abs(y - self.y)\n",
    "        s = self.radius\n",
    "        return y < 3**0.5 * min(s - x, s / 2)\n",
    "\n",
    "\n",
    "class Sniffer:\n",
    "    count = 0\n",
    "    \n",
    "    def __init__(self, x, y):\n",
    "        Sniffer.count += 1\n",
    "        self.x = x\n",
    "        self.y = y\n",
    "        self.channel = 0\n",
    "        self.radius = 120\n",
    "        self.assigned_user = -1\n",
    "        \n",
    "    def __str__(self):\n",
    "        return \"Sniffer at (\"+ str(self.x) + \", \" + str(self.y) + \") and channel \" + str(self.channel)\n",
    "        \n",
    "    def in_range(self, x, y):\n",
    "        x = abs(x - self.x)\n",
    "        y = abs(y - self.y)\n",
    "        r = self.radius\n",
    "        return pow(x,2.0) + pow(y,2.0) <= pow(r,2.0)\n",
    "    \n",
    "    def in_range_users(self, users):\n",
    "        range_users = []\n",
    "        for user in users:\n",
    "            if self.in_range(user.x, user.y):\n",
    "                range_users.append(user) \n",
    "#                 print(user)\n",
    "        return range_users\n",
    "\n",
    "    def assign_channel(self, channel):\n",
    "        self.channel = channel\n",
    "    \n",
    "    def assign_user(self, channel, users):\n",
    "        inrange_users = self.in_range_users(users)\n",
    "#         inrange_users = random.shuffle(inrange_users)\n",
    "        if(inrange_users is not None):\n",
    "            for i,user in enumerate(inrange_users):\n",
    "                if user.active and user.channel == self.channel:\n",
    "                    self.assigned_user = i\n",
    "                    break\n",
    "        else:\n",
    "            self.assigned_user = -1\n",
    "            \n",
    "        \n",
    "class User:\n",
    "    count = 0\n",
    "    \n",
    "    def __init__(self, x, y):\n",
    "        User.count += 1\n",
    "        self.x = x\n",
    "        self.y = y\n",
    "        self.channel = 0  \n",
    "        self.active = 0\n",
    "        self.activity_prob = 0.3\n",
    "        \n",
    "    def __str__(self):\n",
    "        return \"User at (\"+ str(self.x) + \", \" + str(self.y) + \") and channel \" + str(self.channel) + \" and active \" + str(self.active)\n",
    "    \n",
    "    def in_range_sniffers(self, sniffers):\n",
    "        range_sniffers = []\n",
    "        for snif in sniffers:\n",
    "            if snif.in_range(self.x, self.y):\n",
    "                range_sniffers.append(snif)\n",
    "        return range_sniffers\n",
    "    \n",
    "    def access_point_in_range(self, aps):\n",
    "        req = []\n",
    "        for ap in aps:\n",
    "            if ap.in_hexagon(self.x, self.y):\n",
    "                self.channel = ap.channel\n",
    "                break; \n",
    "                \n",
    "    def change_active(self):\n",
    "        if np.random.rand() <= self.activity_prob:\n",
    "            self.active = 1\n",
    "        else:\n",
    "            self.active = 0     "
   ]
  },
  {
   "cell_type": "code",
   "execution_count": 3,
   "metadata": {},
   "outputs": [],
   "source": [
    "sniffers = []\n",
    "for i in range(0, 300, 100):\n",
    "    for j in range(0, 300, 100):\n",
    "        sniffers.append(Sniffer(i,j))"
   ]
  },
  {
   "cell_type": "code",
   "execution_count": 4,
   "metadata": {},
   "outputs": [],
   "source": [
    "aps = []\n",
    "for i in range(0, 300, 86*3):\n",
    "    for j in range(0, 300, 86*2):\n",
    "        aps.append(AP(i,j,(i+j)%3))\n",
    "        \n",
    "for i in range(86+int(86/2), 300, 86*3):\n",
    "    for j in range(-86, 300+86, 86*2):\n",
    "        aps.append(AP(i,j, (i+j)%3))"
   ]
  },
  {
   "cell_type": "code",
   "execution_count": 5,
   "metadata": {},
   "outputs": [],
   "source": [
    "users = []\n",
    "for i in range(0, 100):\n",
    "        x = np.random.uniform(low=0, high=300, size=(1,))[0]\n",
    "        y = np.random.uniform(low=0, high=300, size=(1,))[0]\n",
    "        now = User(x, y)\n",
    "        now.access_point_in_range(aps)\n",
    "        now.change_active()\n",
    "        users.append(now)"
   ]
  },
  {
   "cell_type": "code",
   "execution_count": 6,
   "metadata": {},
   "outputs": [
    {
     "data": {
      "image/png": "[encoded data removed]",
      "text/plain": [
       "<Figure size 432x288 with 1 Axes>"
      ]
     },
     "metadata": {},
     "output_type": "display_data"
    }
   ],
   "source": [
    "x = [a.x for a in sniffers]\n",
    "y = [a.y for a in sniffers]\n",
    "\n",
    "x0 = []\n",
    "x1 = []\n",
    "x2 = []\n",
    "y0 = []\n",
    "y1 = []\n",
    "y2 = []\n",
    "\n",
    "for a in aps:\n",
    "    if a.channel == 0:\n",
    "        x0.append(a.x)\n",
    "        y0.append(a.y)\n",
    "    elif a.channel == 1:\n",
    "        x1.append(a.x)\n",
    "        y1.append(a.y)\n",
    "    else:\n",
    "        x2.append(a.x)\n",
    "        y2.append(a.y)        \n",
    "\n",
    "\n",
    "x_u = [a.x for a in users]\n",
    "y_u = [a.y for a in users]\n",
    "\n",
    "fig = plt.figure()\n",
    "ax = fig.gca()\n",
    "ax.set_xticks(np.arange(0, 220, 50))\n",
    "ax.set_yticks(np.arange(0, 220, 50))\n",
    "\n",
    "for i, a in enumerate(aps):\n",
    "    if i%2 ==0:\n",
    "        circle = RegularPolygon((a.x, a.y), 6, radius=a.radius, color=\"yellow\", orientation=pi/2, alpha=0.3)\n",
    "    else:\n",
    "        circle = RegularPolygon((a.x, a.y), 6, radius=a.radius, color=\"green\", orientation=pi/2, alpha=0.3)\n",
    "    ax.add_patch(circle)\n",
    "    \n",
    "plt.scatter(x,y, color='black', marker=\".\")\n",
    "plt.scatter(x0,y0, color='blue')    \n",
    "plt.scatter(x1,y1, color='pink')    \n",
    "plt.scatter(x2,y2, color='red')    \n",
    "plt.scatter(x_u,y_u, marker = \"x\", color = \"red\")    \n",
    "\n",
    "ax.set_xlim(0,300 )\n",
    "ax.set_ylim(0, 300)\n",
    "plt.grid()\n",
    "plt.show()"
   ]
  },
  {
   "cell_type": "code",
   "execution_count": 7,
   "metadata": {},
   "outputs": [],
   "source": [
    "channels = 3\n",
    "\n",
    "sniffer_assign = [0, 2, 1] # channels of sniffers - spanner picked\n",
    "\n",
    "user_assign = [1 , 1, -1] # user observed by sniffer i - at every it "
   ]
  },
  {
   "cell_type": "code",
   "execution_count": 8,
   "metadata": {},
   "outputs": [],
   "source": [
    "def get_iden(arr, channel):\n",
    "    global sniffer_assign\n",
    "    arr = np.array(arr)\n",
    "    sniffer_assign = np.array(sniffer_assign)\n",
    "    indices = np.where(arr > 0)[0]\n",
    "    flag = 1\n",
    "    for index in indices:\n",
    "        if channel != sniffer_assign[index]:\n",
    "            output = 0\n",
    "            flag = 0\n",
    "            break\n",
    "    if flag == 1:\n",
    "        output = 1\n",
    "    return output\n",
    "\n",
    "def get_y(arr, channel):\n",
    "    global users\n",
    "    global user_assign\n",
    "    arr = np.array(arr)\n",
    "    user_assign = np.array(user_assign)\n",
    "    indices = np.where(arr > 0)[0]\n",
    "    start = user_assign[indices[0]]\n",
    "    if start == -1:\n",
    "        return 0\n",
    "    if channel != users[start].channel:\n",
    "        return 0\n",
    "    output = 1\n",
    "    for index in indices[1:]:\n",
    "        if start != user_assign[index] or user_assign[index] == -1:\n",
    "            output = 0\n",
    "            return output\n",
    "    return output"
   ]
  },
  {
   "cell_type": "code",
   "execution_count": 9,
   "metadata": {},
   "outputs": [],
   "source": [
    "def generate_phi(user_assign, sniffer_assign):\n",
    "    n = len(sniffer_assign)\n",
    "    now = [\"\".join(seq) for seq in itertools.product(\"01\", repeat=n)]\n",
    "#     print(\"bla\")\n",
    "    now.remove(\"\".join([str(0) for i in range(n)]))\n",
    "    phi = []\n",
    "    y = []\n",
    "    for a in now:\n",
    "        a =  list(map(int, list(a)))\n",
    "        for channel in range(0, channels):\n",
    "#             print(a, get_iden(a, channel), get_y(a,channel), channel, sniffer_assign, user_assign)\n",
    "            phi.append(get_iden(a, channel))\n",
    "            y.append(get_y(a, channel))\n",
    "    phi = np.array(phi)\n",
    "    y = np.array(y)\n",
    "    return (phi, y)"
   ]
  },
  {
   "cell_type": "code",
   "execution_count": 10,
   "metadata": {
    "scrolled": true
   },
   "outputs": [
    {
     "data": {
      "text/plain": [
       "(array([0, 1, 0, 0, 0, 1, 0, 0, 0, 1, 0, 0, 0, 0, 0, 0, 0, 0, 0, 0, 0]),\n",
       " array([0, 0, 0, 1, 0, 0, 0, 0, 0, 1, 0, 0, 0, 0, 0, 1, 0, 0, 0, 0, 0]))"
      ]
     },
     "execution_count": 10,
     "metadata": {},
     "output_type": "execute_result"
    }
   ],
   "source": [
    "generate_phi(user_assign, sniffer_assign)"
   ]
  },
  {
   "cell_type": "code",
   "execution_count": 11,
   "metadata": {},
   "outputs": [
    {
     "name": "stdout",
     "output_type": "stream",
     "text": [
      "0\n",
      "1\n",
      "2\n"
     ]
    }
   ],
   "source": [
    "spanners = []\n",
    "\n",
    "for channel in range(0, channels):\n",
    "    for snif in sniffers:\n",
    "        snif.assign_channel(channel)\n",
    "    user_assign = [snif.assigned_user for snif in sniffers]\n",
    "\n",
    "    sniffer_assign = [snif.channel for snif in sniffers]\n",
    "    \n",
    "    spanners.append(generate_phi(user_assign, sniffer_assign)[0])\n",
    "    print (channel)"
   ]
  },
  {
   "cell_type": "code",
   "execution_count": null,
   "metadata": {},
   "outputs": [],
   "source": []
  },
  {
   "cell_type": "code",
   "execution_count": 12,
   "metadata": {},
   "outputs": [
    {
     "ename": "SyntaxError",
     "evalue": "invalid syntax (<ipython-input-12-072149f95749>, line 43)",
     "output_type": "error",
     "traceback": [
      "\u001b[0;36m  File \u001b[0;32m\"<ipython-input-12-072149f95749>\"\u001b[0;36m, line \u001b[0;32m43\u001b[0m\n\u001b[0;31m    for r in\u001b[0m\n\u001b[0m             ^\u001b[0m\n\u001b[0;31mSyntaxError\u001b[0m\u001b[0;31m:\u001b[0m invalid syntax\n"
     ]
    }
   ],
   "source": [
    "timestep = 1000\n",
    "\n",
    "P = len(sniffers)\n",
    "K = channels\n",
    "\n",
    "thetha = np.zeros((2**P - 1)*K)\n",
    "N = np.zeros((2**P - 1)*K)\n",
    "epoch_counter = np.zeros((2**P - 1)*K)\n",
    "\n",
    "alpha = 0.2#check\n",
    "\n",
    "V = np.zeros(K)\n",
    "mu = np.zeros(K)\n",
    "\n",
    "\n",
    "for time in range(timesteps):\n",
    "    epoch_len -= 1\n",
    "    \n",
    "    for user in users:\n",
    "        user.change_active()\n",
    "    \n",
    "    for snif in sniffers:\n",
    "        snif.assign_user()\n",
    "        \n",
    "    user_assign = [snif.assigned_user for snif in sniffers]\n",
    "    sniffer_assign = [snif.channel for snif in sniffers]\n",
    "    \n",
    "    phi, Y = generate_phi(user_assign, sniffer_assign)\n",
    "    \n",
    "    N += phi #check zeros\n",
    "    theta = theta + (Y-theta)*phi/N\n",
    "    \n",
    "    if epoch_len is 0:\n",
    "        epoch_counter += phi\n",
    "        control = np.argmin(N)\n",
    "        epoch_len = (1+alpha)**(epoch_counter[control]) - (1+alpha)**(epoch_counter[control]-1)\n",
    "        \n",
    "        scale = (alpha*np.log(time))**0.5\n",
    "        \n",
    "            \n",
    "        \n",
    "        V = mu \n",
    "        for r in \n",
    "        arm = np.argmax(V)\n",
    "        \n",
    "        \n",
    "    \n",
    "    \n",
    "    \n",
    "    \n",
    "    "
   ]
  },
  {
   "cell_type": "code",
   "execution_count": null,
   "metadata": {},
   "outputs": [],
   "source": []
  },
  {
   "cell_type": "code",
   "execution_count": null,
   "metadata": {},
   "outputs": [],
   "source": []
  },
  {
   "cell_type": "code",
   "execution_count": null,
   "metadata": {},
   "outputs": [],
   "source": []
  },
  {
   "cell_type": "code",
   "execution_count": 24,
   "metadata": {},
   "outputs": [],
   "source": [
    "class ucb_agent():  \n",
    "    def __init__(self,k,alpha,sniffers,spanners):\n",
    "        self.arm_count = k #spanner size\n",
    "        self.alpha = alpha #param\n",
    "        self.N = np.ones(((2**sniffers-1)*k))\n",
    "        self.trials = 1\n",
    "        self.V = np.zeros((k,))\n",
    "        self.mean = np.zeros((k,))\n",
    "        self.theta = np.zeros(((2**sniffers-1)*k))\n",
    "        self.spanners=spanners\n",
    "        self.reward = [1]\n",
    "\n",
    "        \n",
    "    def get_action(self):\n",
    "        self.trials += 1\n",
    "#         scale = (self.alpha*np.log(self.trials))**0.5\n",
    "#         for i in range(self.arm_count):\n",
    "#             self.V[i] = self.mean[i] + (scale)*np.sum(((1/self.N)**0.5)*self.spanners[i])\n",
    "        out = np.argmax(self.V)\n",
    "        \n",
    "        self.reward.append((self.mean[out]+(self.trials-1)*self.reward[-1])/self.trials)\n",
    "#         print (self.mean[out])\n",
    "        return out\n",
    "    \n",
    "    def update_theta(self,Y,phi):\n",
    "        self.theta = self.theta + (Y-self.theta)*phi/self.N\n",
    "        self.N = self.N + phi\n",
    "        \n",
    "    def update(self,Y,phi):\n",
    "        scale = (self.alpha*np.log(self.trials))**0.5\n",
    "        for i in range(self.arm_count):\n",
    "            self.V[i] = self.mean[i] + (scale)*np.sum(((1/self.N)**0.5)*self.spanners[i])\n",
    "            self.mean[i] = np.dot(self.theta,self.spanners[i])\n",
    "#         print (self.mean,self.V)    \n",
    "        return \n",
    "    "
   ]
  },
  {
   "cell_type": "code",
   "execution_count": 25,
   "metadata": {},
   "outputs": [],
   "source": [
    "spanners = []\n",
    "\n",
    "for channel in range(0, channels):\n",
    "    for snif in sniffers:\n",
    "        snif.assign_channel(channel)\n",
    "    user_assign = [snif.assigned_user for snif in sniffers]\n",
    "    sniffer_assign = [snif.channel for snif in sniffers]    \n",
    "    spanners.append(generate_phi(user_assign, sniffer_assign)[0])\n",
    "\n",
    "\n",
    "agent = ucb_agent(k = channels, alpha=0.1, sniffers=len(sniffers), spanners=spanners)\n",
    "\n",
    "\n",
    "for action in range(channels):\n",
    "    for i in users:\n",
    "        i.change_active()\n",
    "    for j in sniffers:\n",
    "        j.assign_channel(action)\n",
    "        j.assign_user(1,users)\n",
    "\n",
    "    user_assign = [snif.assigned_user for snif in sniffers]\n",
    "    sniffer_assign = [snif.channel for snif in sniffers]\n",
    "    \n",
    "    phi, Y = generate_phi(user_assign, sniffer_assign)\n",
    "    #     get Y\n",
    "    #     get phi\n",
    "    agent.update(Y,phi)\n",
    "    agent.update_theta(Y,phi)\n",
    "        \n",
    "        \n",
    "epoch_len =1\n",
    "epoch_counter = np.ones((2**len(sniffers) - 1)*channels)\n",
    "steps = 1000\n",
    "alpha = 0.1\n",
    "for t in range(steps):\n",
    "    epoch_len -= 1\n",
    "    for i in users:\n",
    "        i.change_active()\n",
    "    action = agent.get_action()\n",
    "    for j in sniffers:\n",
    "        j.assign_channel(action)\n",
    "        j.assign_user(1,users)\n",
    "\n",
    "        \n",
    "    user_assign = [snif.assigned_user for snif in sniffers]\n",
    "    sniffer_assign = [snif.channel for snif in sniffers]\n",
    "    \n",
    "    phi, Y = generate_phi(user_assign, sniffer_assign)\n",
    "#     print (epoch_len)\n",
    "    if epoch_len<0:\n",
    "        epoch_counter += phi\n",
    "        control = np.argmin(agent.N)\n",
    "        epoch_len = (1+alpha)**(epoch_counter[control]) - (1+alpha)**(epoch_counter[control]-1)\n",
    "        agent.update(Y,phi)\n",
    "    agent.update_theta(Y,phi)\n",
    "    \n",
    "    "
   ]
  },
  {
   "cell_type": "code",
   "execution_count": 27,
   "metadata": {},
   "outputs": [
    {
     "data": {
      "text/plain": [
       "[<matplotlib.lines.Line2D at 0x7f831185ef60>]"
      ]
     },
     "execution_count": 27,
     "metadata": {},
     "output_type": "execute_result"
    },
    {
     "data": {
      "image/png": "[encoded data removed]",
      "text/plain": [
       "<Figure size 432x288 with 1 Axes>"
      ]
     },
     "metadata": {},
     "output_type": "display_data"
    }
   ],
   "source": [
    "plt.plot(agent.reward[:100])"
   ]
  },
  {
   "cell_type": "code",
   "execution_count": null,
   "metadata": {},
   "outputs": [],
   "source": [
    "p_u = np.random.rand(user_count)\n",
    "c_u = np.random.randint(low=1,high=channel,size=user_count)\n",
    "positions_u = np.random.rand(size=(user_count,2))\n",
    "\n",
    "y = cvxpy.Parameter(user_count,boolean =True)\n",
    "z = cvxpy.Parameter((user_count,sniffer_count),boolean=True)\n",
    "\n",
    "\n",
    "con1 = []\n",
    "for i in range(user_count):\n",
    "    for j in range_[i]:\n",
    "        try:\n",
    "            x = cvxpy.sum(x,z[j,c[u]])\n",
    "        except:\n",
    "            x = z[j,c[u]]\n",
    "    con1.append(y[i]<=x)\n",
    "    \n",
    "con2 = []\n",
    "for i in range(channel):\n",
    "    con2.append(cvxpy.sum(z[:,i])<=1)\n",
    "\n",
    "constraints = con1 + con2\n",
    "obj = cvxpy.Maximize(cvxpy.sum(cvxpy.multiply(p_u,y)))\n",
    "\n",
    "\n",
    "problem = cvxpy.Problem(objective=obj,constraints=constraints)\n",
    "problem.solve()\n",
    "print (z.values)"
   ]
  }
 ],
 "metadata": {
  "kernelspec": {
   "display_name": "Python 3",
   "language": "python",
   "name": "python3"
  },
  "language_info": {
   "codemirror_mode": {
    "name": "ipython",
    "version": 3
   },
   "file_extension": ".py",
   "mimetype": "text/x-python",
   "name": "python",
   "nbconvert_exporter": "python",
   "pygments_lexer": "ipython3",
   "version": "3.6.7"
  }
 },
 "nbformat": 4,
 "nbformat_minor": 2
}
