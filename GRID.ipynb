{
 "cells": [
  {
   "cell_type": "markdown",
   "metadata": {},
   "source": [
    "### Sequential Learning for Multi-Channel Wireless Network Monitoring With Channel Switching Costs"
   ]
  },
  {
   "cell_type": "code",
   "execution_count": 1,
   "metadata": {},
   "outputs": [],
   "source": [
    "%matplotlib inline\n",
    "import matplotlib.pyplot as plt\n",
    "from matplotlib.patches import RegularPolygon\n",
    "import numpy as np\n",
    "from math import pi\n",
    "import itertools\n",
    "import random"
   ]
  },
  {
   "cell_type": "code",
   "execution_count": 2,
   "metadata": {},
   "outputs": [],
   "source": [
    "glob_range = 300\n",
    "channels = 3\n",
    "\n",
    "\n",
    "class AP:\n",
    "    count = 0\n",
    "    \n",
    "    def __init__(self, x, y, channel):\n",
    "        AP.count += 1\n",
    "        self.x = x\n",
    "        self.y = y\n",
    "        self.channel = channel\n",
    "        self.radius = 86\n",
    "\n",
    "    def __str__(self):\n",
    "        return \"AP at (\" + str(self.x) + \", \" + str(self.y) + \") and channel \" + str(self.channel)\n",
    "        \n",
    "    def in_hexagon(self, x, y):\n",
    "        x = abs(x - self.x)\n",
    "        y = abs(y - self.y)\n",
    "        s = self.radius\n",
    "        return y < 3**0.5 * min(s - x, s / 2)\n",
    "\n",
    "\n",
    "class Sniffer:\n",
    "    count = 0\n",
    "    \n",
    "    def __init__(self, x, y):\n",
    "        Sniffer.count += 1\n",
    "        self.x = x\n",
    "        self.y = y\n",
    "        self.channel = 0\n",
    "        self.radius = 200\n",
    "        self.assigned_user = -1\n",
    "        \n",
    "    def __str__(self):\n",
    "        return \"Sniffer at (\"+ str(self.x) + \", \" + str(self.y) + \") and channel \" + str(self.channel)\n",
    "        \n",
    "    def in_range(self, x, y):\n",
    "        x = abs(x - self.x)\n",
    "        y = abs(y - self.y)\n",
    "        r = self.radius\n",
    "        return pow(x,2.0) + pow(y,2.0) <= pow(r,2.0)\n",
    "    \n",
    "    def in_range_users(self, users):\n",
    "        range_users = []\n",
    "        for user in users:\n",
    "            if self.in_range(user.x, user.y):\n",
    "                range_users.append(user) \n",
    "        return range_users\n",
    "\n",
    "    def assign_channel(self, channel):\n",
    "        self.channel = channel\n",
    "    \n",
    "    def assign_user(self, channel, users):\n",
    "        inrange_users = self.in_range_users(users)\n",
    "#         inrange_users = random.shuffle(inrange_users)\n",
    "        if(inrange_users is not None):\n",
    "            for i,user in enumerate(inrange_users):\n",
    "                if user.active and user.channel == self.channel:\n",
    "                    self.assigned_user = i\n",
    "                    break\n",
    "        else:\n",
    "            self.assigned_user = -1\n",
    "            \n",
    "        \n",
    "class User:\n",
    "    count = 0\n",
    "    \n",
    "    def __init__(self, x, y):\n",
    "        User.count += 1\n",
    "        self.x = x\n",
    "        self.y = y\n",
    "        self.channel = 0  \n",
    "        self.active = 0\n",
    "        self.activity_prob = 0.3\n",
    "        \n",
    "    def __str__(self):\n",
    "        return \"User at (\"+ str(self.x) + \", \" + str(self.y) + \") and channel \" + str(self.channel) + \" and active \" + str(self.active)\n",
    "    \n",
    "    def in_range_sniffers(self, sniffers):\n",
    "        range_sniffers = []\n",
    "        for snif in sniffers:\n",
    "            if snif.in_range(self.x, self.y):\n",
    "                range_sniffers.append(snif)\n",
    "        return range_sniffers\n",
    "    \n",
    "    def access_point_in_range(self, aps):\n",
    "        req = []\n",
    "        for ap in aps:\n",
    "            if ap.in_hexagon(self.x, self.y):\n",
    "                self.channel = ap.channel\n",
    "                break; \n",
    "                \n",
    "    def change_active(self):\n",
    "        if np.random.rand() <= self.activity_prob:\n",
    "            self.active = 1\n",
    "        else:\n",
    "            self.active = 0     "
   ]
  },
  {
   "cell_type": "code",
   "execution_count": 3,
   "metadata": {},
   "outputs": [],
   "source": [
    "sniffers = []\n",
    "for i in range(0, glob_range, 200):\n",
    "    for j in range(0, glob_range, 200):\n",
    "        sniffers.append(Sniffer(i,j))"
   ]
  },
  {
   "cell_type": "code",
   "execution_count": 4,
   "metadata": {},
   "outputs": [
    {
     "name": "stdout",
     "output_type": "stream",
     "text": [
      "Sniffer at (0, 0) and channel 0\n",
      "Sniffer at (0, 200) and channel 0\n",
      "Sniffer at (200, 0) and channel 0\n",
      "Sniffer at (200, 200) and channel 0\n"
     ]
    }
   ],
   "source": [
    "for snif in sniffers:\n",
    "    print(snif)"
   ]
  },
  {
   "cell_type": "code",
   "execution_count": 5,
   "metadata": {},
   "outputs": [],
   "source": [
    "aps = []\n",
    "for i in range(0, glob_range, 86*3):\n",
    "    for j in range(0, glob_range, 86*2):\n",
    "        aps.append(AP(i,j,(i+j)%3))\n",
    "        \n",
    "for i in range(86+int(86/2), glob_range, 86*3):\n",
    "    for j in range(-86, glob_range+86, 86*2):\n",
    "        aps.append(AP(i,j, (i+j)%3))"
   ]
  },
  {
   "cell_type": "code",
   "execution_count": 6,
   "metadata": {},
   "outputs": [],
   "source": [
    "users = []\n",
    "for i in range(0, 100):\n",
    "        x = np.random.uniform(low=0, high=glob_range, size=(1,))[0]\n",
    "        y = np.random.uniform(low=0, high=glob_range, size=(1,))[0]\n",
    "        now = User(x, y)\n",
    "        now.access_point_in_range(aps)\n",
    "        now.change_active()\n",
    "        users.append(now)"
   ]
  },
  {
   "cell_type": "code",
   "execution_count": 7,
   "metadata": {},
   "outputs": [
    {
     "data": {
      "image/png": "[encoded data removed]",
      "text/plain": [
       "<Figure size 432x288 with 1 Axes>"
      ]
     },
     "metadata": {},
     "output_type": "display_data"
    }
   ],
   "source": [
    "x = [a.x for a in sniffers]\n",
    "y = [a.y for a in sniffers]\n",
    "\n",
    "x0 = []\n",
    "x1 = []\n",
    "x2 = []\n",
    "y0 = []\n",
    "y1 = []\n",
    "y2 = []\n",
    "\n",
    "for a in aps:\n",
    "    if a.channel == 0:\n",
    "        x0.append(a.x)\n",
    "        y0.append(a.y)\n",
    "    elif a.channel == 1:\n",
    "        x1.append(a.x)\n",
    "        y1.append(a.y)\n",
    "    else:\n",
    "        x2.append(a.x)\n",
    "        y2.append(a.y)        \n",
    "\n",
    "\n",
    "x_u = [a.x for a in users]\n",
    "y_u = [a.y for a in users]\n",
    "\n",
    "fig = plt.figure()\n",
    "ax = fig.gca()\n",
    "ax.set_xticks(np.arange(0, 220, 50))\n",
    "ax.set_yticks(np.arange(0, 220, 50))\n",
    "\n",
    "for i, a in enumerate(aps):\n",
    "    if i%2 ==0:\n",
    "        circle = RegularPolygon((a.x, a.y), 6, radius=a.radius, color=\"yellow\", orientation=pi/2, alpha=0.3)\n",
    "    else:\n",
    "        circle = RegularPolygon((a.x, a.y), 6, radius=a.radius, color=\"green\", orientation=pi/2, alpha=0.3)\n",
    "    ax.add_patch(circle)\n",
    "    \n",
    "plt.scatter(x,y, color='black', marker=\".\")\n",
    "plt.scatter(x0,y0, color='blue')    \n",
    "plt.scatter(x1,y1, color='pink')    \n",
    "plt.scatter(x2,y2, color='red')    \n",
    "plt.scatter(x_u,y_u, marker = \"x\", color = \"red\")    \n",
    "\n",
    "ax.set_xlim(0, glob_range )\n",
    "ax.set_ylim(0, glob_range)\n",
    "plt.grid()\n",
    "plt.show()"
   ]
  },
  {
   "cell_type": "code",
   "execution_count": 8,
   "metadata": {},
   "outputs": [],
   "source": [
    "def get_iden(arr, channel, sniffer_assign):\n",
    "    arr = np.array(arr)\n",
    "    sniffer_assign1 = np.array(sniffer_assign)\n",
    "    indices = np.where(arr > 0)[0]\n",
    "    flag = 1\n",
    "    for index in indices:\n",
    "        if channel != sniffer_assign1[index]:\n",
    "            output = 0\n",
    "            flag = 0\n",
    "            break\n",
    "    if flag == 1:\n",
    "        output = 1\n",
    "\n",
    "    return output\n",
    "\n",
    "def get_y(arr, channel, user_assign):\n",
    "    global users\n",
    "    arr = np.array(arr)\n",
    "    user_assign1 = np.array(user_assign)\n",
    "    indices = np.where(arr > 0)[0]\n",
    "    start = user_assign1[indices[0]]\n",
    "    if start == -1:\n",
    "        return 0\n",
    "    if channel != users[start].channel:\n",
    "        return 0\n",
    "    output = 1\n",
    "    for index in indices[1:]:\n",
    "        if start != user_assign1[index] or user_assign1[index] == -1:\n",
    "            output = 0\n",
    "            return output\n",
    "      \n",
    "    return output"
   ]
  },
  {
   "cell_type": "code",
   "execution_count": 9,
   "metadata": {},
   "outputs": [],
   "source": [
    "def generate_phi(user_assign, sniffer_assign):\n",
    "    n = len(sniffer_assign)\n",
    "    now = [\"\".join(seq) for seq in itertools.product(\"01\", repeat=n)]\n",
    "    now.remove(\"\".join([str(0) for i in range(n)]))\n",
    "    phi = []\n",
    "    y = []\n",
    "    for a in now:\n",
    "        a =  list(map(int, list(a)))\n",
    "        for channel in range(0, channels):\n",
    "            phi.append(get_iden(a, channel, sniffer_assign))\n",
    "            y.append(get_y(a, channel, user_assign))\n",
    "    phi = np.array(phi)\n",
    "    y = np.array(y)\n",
    "    return (phi, y)"
   ]
  },
  {
   "cell_type": "code",
   "execution_count": 10,
   "metadata": {
    "scrolled": false
   },
   "outputs": [],
   "source": [
    "spanners = []\n",
    "\n",
    "for channel in range(0, channels):\n",
    "    for snif in sniffers:\n",
    "        snif.assign_channel(channel)\n",
    "    user_assign = [snif.assigned_user for snif in sniffers]\n",
    "\n",
    "    sniffer_assign = [snif.channel for snif in sniffers]\n",
    "    \n",
    "    spanners.append(generate_phi(user_assign, sniffer_assign)[0])"
   ]
  },
  {
   "cell_type": "code",
   "execution_count": 11,
   "metadata": {},
   "outputs": [],
   "source": [
    "phis = []\n",
    "k = 0"
   ]
  },
  {
   "cell_type": "code",
   "execution_count": 12,
   "metadata": {},
   "outputs": [],
   "source": [
    "def gen_all_phis(n , channel_assign):\n",
    "    global phis, k\n",
    "    if n == 0:\n",
    "        return \n",
    "    snif1 = sniffers[n-1]\n",
    "    for channel in range(0, channels):\n",
    "        snif1.assign_channel(channel)\n",
    "        k += 1\n",
    "        user_assign = [snif.assigned_user for snif in sniffers]\n",
    "        sniffer_assign = [snif.channel for snif in sniffers]\n",
    "        gen_all_phis(n-1, sniffer_assign.copy())\n",
    "        phis.append((sniffer_assign, generate_phi(user_assign, sniffer_assign)[0]))\n",
    "        phis.append((sniffer_assign , generate_phi(user_assign, sniffer_assign)[0]))\n"
   ]
  },
  {
   "cell_type": "code",
   "execution_count": 13,
   "metadata": {},
   "outputs": [],
   "source": [
    "class ucb_agent():  \n",
    "    def __init__(self,k,alpha,sniffers,spanners):\n",
    "        self.arm_count = k #spanner size\n",
    "        self.alpha = alpha #param\n",
    "        self.N = np.ones(((2**sniffers-1)*k))\n",
    "        self.trials = 1\n",
    "        self.V = np.zeros((k,))\n",
    "        self.mean = np.zeros((k,))\n",
    "        self.theta = np.zeros(((2**sniffers-1)*k))\n",
    "        self.spanners=spanners\n",
    "        self.reward = [1]\n",
    "        self.reward_avg = [1]\n",
    "        self.arm = []\n",
    "        self.switching_regret = [0]\n",
    "        self.s_cost = 2\n",
    "\n",
    "        \n",
    "    def get_action(self):\n",
    "        self.trials += 1\n",
    "        out = np.argmax(self.V)\n",
    "        \n",
    "        self.reward_avg.append((self.mean[out]+(self.trials-1)*self.reward[-1])/self.trials)\n",
    "        self.reward.append(self.mean[out])\n",
    "        self.arm.append(out)\n",
    "        try:\n",
    "            if out != self.arm[-2]:\n",
    "                self.switching_regret.append(self.switching_regret[-1]+self.s_cost)\n",
    "            else:\n",
    "                self.switching_regret.append(self.switching_regret[-1])\n",
    "        except:\n",
    "            pass\n",
    "        return out\n",
    "    \n",
    "    def update_theta(self,Y,phi):\n",
    "        self.theta = self.theta + (Y-self.theta)*phi/self.N\n",
    "        self.N = self.N + np.absolute(phi)\n",
    "        \n",
    "    def update(self,Y,phi):\n",
    "        scale = (self.alpha*np.log(self.trials))**0.5\n",
    "        for i in range(self.arm_count):\n",
    "            self.V[i] = self.mean[i] + (scale)*np.sum(((1/self.N)**0.5)*self.spanners[i])\n",
    "            self.mean[i] = np.dot(self.theta,self.spanners[i])\n",
    "        return \n",
    "    "
   ]
  },
  {
   "cell_type": "code",
   "execution_count": 14,
   "metadata": {},
   "outputs": [],
   "source": [
    "def get_regret(agent,spanners):\n",
    "    optimal_index = np.argmax(agent.reward[1500:])+1500\n",
    "    optimal = agent.arm[optimal_index-1]\n",
    "    optimal_phi = spanners[optimal]\n",
    "    reg = [0]\n",
    "    for i in range(len(agent.arm)):\n",
    "        reg.append(reg[-1]+(np.dot(optimal_phi,agent.theta)-np.dot(spanners[agent.arm[i]],agent.theta)))\n",
    "    return reg "
   ]
  },
  {
   "cell_type": "code",
   "execution_count": 15,
   "metadata": {},
   "outputs": [
    {
     "name": "stderr",
     "output_type": "stream",
     "text": [
      "100%|██████████| 10/10 [01:37<00:00,  9.71s/it]\n"
     ]
    }
   ],
   "source": [
    "import tqdm\n",
    "regret = []\n",
    "s_regret = []\n",
    "for trials in tqdm.tqdm(range(10)):\n",
    "    spanners = []\n",
    "    for channel in range(0, channels):\n",
    "        for snif in sniffers:\n",
    "            snif.assign_channel(channel)\n",
    "        user_assign = [snif.assigned_user for snif in sniffers]\n",
    "        sniffer_assign = [snif.channel for snif in sniffers]    \n",
    "        spanners.append(generate_phi(user_assign, sniffer_assign)[0])\n",
    "\n",
    "\n",
    "    agent = ucb_agent(k = channels, alpha=0.1, sniffers=len(sniffers), spanners=spanners)\n",
    "\n",
    "\n",
    "    for action in range(channels):\n",
    "        for i in users:\n",
    "            i.change_active()\n",
    "        for j in sniffers:\n",
    "            j.assign_channel(action)\n",
    "            j.assign_user(1,users)\n",
    "\n",
    "        user_assign = [snif.assigned_user for snif in sniffers]\n",
    "        sniffer_assign = [snif.channel for snif in sniffers]\n",
    "\n",
    "        phi, Y = generate_phi(user_assign, sniffer_assign)\n",
    "        agent.update(Y,phi)\n",
    "        agent.update_theta(Y,phi)\n",
    "\n",
    "\n",
    "    epoch_len =1\n",
    "    epoch_counter = np.ones((2**len(sniffers) - 1)*channels)\n",
    "    steps = 10000\n",
    "    alpha = 1\n",
    "    for t in range(steps):\n",
    "        epoch_len -= 1\n",
    "        for i in users:\n",
    "            i.change_active()\n",
    "        action = agent.get_action()\n",
    "        for j in sniffers:\n",
    "            j.assign_channel(action)\n",
    "            j.assign_user(1,users)\n",
    "\n",
    "\n",
    "        user_assign = [snif.assigned_user for snif in sniffers]\n",
    "        sniffer_assign = [snif.channel for snif in sniffers]\n",
    "\n",
    "        phi, Y = generate_phi(user_assign, sniffer_assign)\n",
    "        if epoch_len<0:\n",
    "            epoch_counter += np.absolute(phi)\n",
    "            control = np.argmin(agent.N)\n",
    "            epoch_len = (1+alpha)**(epoch_counter[control]) - (1+alpha)**(epoch_counter[control]-1)\n",
    "            agent.update(Y,phi)\n",
    "        agent.update_theta(Y,phi)\n",
    "    s_regret.append(agent.switching_regret)\n",
    "    regret.append(get_regret(agent=agent,spanners=spanners))\n",
    "    \n",
    "    \n",
    "\n",
    "avg_regret = np.array(regret).mean(axis=0)\n",
    "# plt.plot(avg_regret)\n",
    "\n",
    "avg_s_regret = np.array(s_regret).mean(axis=0)\n",
    "# plt.plot(avg_s_regret)\n",
    "\n",
    "avg_tot_regret = avg_s_regret + avg_regret[:len(avg_s_regret)]\n",
    "# plt.plot(avg_tot_regret)"
   ]
  },
  {
   "cell_type": "code",
   "execution_count": 16,
   "metadata": {},
   "outputs": [
    {
     "name": "stderr",
     "output_type": "stream",
     "text": [
      "100%|██████████| 10/10 [02:01<00:00, 12.11s/it]\n"
     ]
    }
   ],
   "source": [
    "import tqdm\n",
    "regret = []\n",
    "s_regret = []\n",
    "for trials in tqdm.tqdm(range(10)):\n",
    "    spanners = []\n",
    "    for channel in range(0, channels):\n",
    "        for snif in sniffers:\n",
    "            snif.assign_channel(channel)\n",
    "        user_assign = [snif.assigned_user for snif in sniffers]\n",
    "        sniffer_assign = [snif.channel for snif in sniffers]    \n",
    "        spanners.append(generate_phi(user_assign, sniffer_assign)[0])\n",
    "\n",
    "\n",
    "    agent = ucb_agent(k = channels, alpha=0.1, sniffers=len(sniffers), spanners=spanners)\n",
    "\n",
    "    epoch_len =1\n",
    "    epoch_counter = np.ones((2**len(sniffers) - 1)*channels)\n",
    "    steps = 10000\n",
    "    alpha = 1\n",
    "    for t in range(steps):\n",
    "        epoch_len -= 1\n",
    "        for i in users:\n",
    "            i.change_active()\n",
    "        action = agent.get_action()\n",
    "        for j in sniffers:\n",
    "            j.assign_channel(action)\n",
    "            j.assign_user(1,users)\n",
    "\n",
    "\n",
    "        user_assign = [snif.assigned_user for snif in sniffers]\n",
    "        sniffer_assign = [snif.channel for snif in sniffers]\n",
    "\n",
    "        phi, Y = generate_phi(user_assign, sniffer_assign)\n",
    "        agent.update(Y,phi)\n",
    "        agent.update_theta(Y,phi)\n",
    "    s_regret.append(agent.switching_regret)\n",
    "    regret.append(get_regret(agent=agent,spanners=spanners))\n",
    "\n",
    "avg_regret_naive = np.array(regret).mean(axis=0)\n",
    "# plt.plot(avg_regret_naive)\n",
    "\n",
    "avg_s_regret_naive = np.array(s_regret).mean(axis=0)\n",
    "# plt.plot(avg_s_regret_naive)\n",
    "\n",
    "avg_tot_regret_naive = avg_s_regret_naive + avg_regret_naive[:len(avg_s_regret_naive)]\n",
    "# plt.plot(avg_tot_regret_naive)"
   ]
  },
  {
   "cell_type": "code",
   "execution_count": 17,
   "metadata": {},
   "outputs": [
    {
     "data": {
      "image/png": "[encoded data removed]",
      "text/plain": [
       "<Figure size 432x288 with 1 Axes>"
      ]
     },
     "metadata": {},
     "output_type": "display_data"
    },
    {
     "data": {
      "text/plain": [
       "<Figure size 432x288 with 0 Axes>"
      ]
     },
     "metadata": {},
     "output_type": "display_data"
    }
   ],
   "source": [
    "x = list(range(10000))\n",
    "plt.plot(x,avg_regret[:10000],c = \"r\",label=\"Proposed UCB\")\n",
    "plt.plot(x,avg_regret_naive[:10000],c = \"b\",label=\"UCB\")\n",
    "plt.xlabel(\"Time_steps\")\n",
    "plt.ylabel(\"Regret\")\n",
    "plt.title(\"Sampling Regret\")\n",
    "plt.legend()\n",
    "plt.show()\n",
    "plt.savefig(\"sampling_regret.png\")"
   ]
  },
  {
   "cell_type": "code",
   "execution_count": 18,
   "metadata": {},
   "outputs": [
    {
     "data": {
      "image/png": "[encoded data removed]",
      "text/plain": [
       "<Figure size 432x288 with 1 Axes>"
      ]
     },
     "metadata": {},
     "output_type": "display_data"
    },
    {
     "data": {
      "text/plain": [
       "<Figure size 432x288 with 0 Axes>"
      ]
     },
     "metadata": {},
     "output_type": "display_data"
    }
   ],
   "source": [
    "x = list(range(10000))\n",
    "plt.plot(x,avg_s_regret[:10000],c = \"r\",label = \"Proposed UCB\")\n",
    "plt.plot(x,avg_s_regret_naive[:10000],c = \"b\",label = \"UCB\")\n",
    "plt.xlabel(\"Time_steps\")\n",
    "plt.ylabel(\"Regret\")\n",
    "plt.title(\"Switching Regret\")\n",
    "plt.legend()\n",
    "plt.show()\n",
    "plt.savefig(\"switching_regret.png\")"
   ]
  },
  {
   "cell_type": "code",
   "execution_count": 19,
   "metadata": {},
   "outputs": [
    {
     "data": {
      "image/png": "[encoded data removed]",
      "text/plain": [
       "<Figure size 432x288 with 1 Axes>"
      ]
     },
     "metadata": {},
     "output_type": "display_data"
    },
    {
     "data": {
      "text/plain": [
       "<Figure size 432x288 with 0 Axes>"
      ]
     },
     "metadata": {},
     "output_type": "display_data"
    }
   ],
   "source": [
    "x = list(range(10000))\n",
    "plt.plot(x,avg_tot_regret[:10000],c = \"r\",label = \"Proposed UCB\")\n",
    "plt.plot(x,avg_tot_regret_naive[:10000],c = \"b\",label = \"UCB\")\n",
    "plt.xlabel(\"Time_steps\")\n",
    "plt.ylabel(\"Regret\")\n",
    "plt.title(\"Total Regret\")\n",
    "plt.legend()\n",
    "plt.show()\n",
    "plt.savefig(\"total_regret.png\")"
   ]
  }
 ],
 "metadata": {
  "kernelspec": {
   "display_name": "Python 3",
   "language": "python",
   "name": "python3"
  },
  "language_info": {
   "codemirror_mode": {
    "name": "ipython",
    "version": 3
   },
   "file_extension": ".py",
   "mimetype": "text/x-python",
   "name": "python",
   "nbconvert_exporter": "python",
   "pygments_lexer": "ipython3",
   "version": "3.6.7"
  }
 },
 "nbformat": 4,
 "nbformat_minor": 2
}
