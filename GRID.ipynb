{
 "cells": [
  {
   "cell_type": "markdown",
   "metadata": {},
   "source": [
    "### Sequential Learning for Multi-Channel Wireless Network Monitoring With Channel Switching Costs"
   ]
  },
  {
   "cell_type": "code",
   "execution_count": 1,
   "metadata": {},
   "outputs": [],
   "source": [
    "%matplotlib inline\n",
    "import matplotlib.pyplot as plt\n",
    "from matplotlib.patches import RegularPolygon\n",
    "import numpy as np\n",
    "from math import pi\n",
    "import itertools\n",
    "import random"
   ]
  },
  {
   "cell_type": "code",
   "execution_count": 3,
   "metadata": {},
   "outputs": [],
   "source": [
    "class AP:\n",
    "    count = 0\n",
    "    \n",
    "    def __init__(self, x, y):\n",
    "        AP.count += 1\n",
    "        self.x = x\n",
    "        self.y = y\n",
    "        self.channel = 0\n",
    "        self.radius = 86\n",
    "\n",
    "    def __str__(self):\n",
    "        return \"AP at (\" + str(self.x) + \", \" + str(self.y) + \") and channel \" + str(self.channel)\n",
    "        \n",
    "    def in_hexagon(self, x, y):\n",
    "        x = abs(x - self.x)\n",
    "        y = abs(y - self.y)\n",
    "        s = self.radius\n",
    "        return y < 3**0.5 * min(s - x, s / 2)\n",
    "\n",
    "\n",
    "class Sniffer:\n",
    "    count = 0\n",
    "    \n",
    "    def __init__(self, x, y):\n",
    "        Sniffer.count += 1\n",
    "        self.x = x\n",
    "        self.y = y\n",
    "        self.channel = 0\n",
    "        self.radius = 120\n",
    "        self.assigned_user = -1\n",
    "        \n",
    "    def __str__(self):\n",
    "        return \"Sniffer at (\"+ str(self.x) + \", \" + str(self.y) + \") and channel \" + str(self.channel)\n",
    "        \n",
    "    def in_range(self, x, y):\n",
    "        x = abs(x - self.x)\n",
    "        y = abs(y - self.y)\n",
    "        r = self.radius\n",
    "        return pow(x,2.0) + pow(y,2.0) <= pow(r,2.0)\n",
    "    \n",
    "    def in_range_users(self, users):\n",
    "        range_users = []\n",
    "        for user in users:\n",
    "            if self.in_range(user.x, user.y):\n",
    "                range_users.append(user) \n",
    "#                 print(user)\n",
    "        return range_users\n",
    "    \n",
    "    def assign_channel(self, channel, users):\n",
    "        self.channel = channel\n",
    "        inrange_users = self.in_range_users(users)\n",
    "#         inrange_users = random.shuffle(inrange_users)\n",
    "        if(inrange_users is not None):\n",
    "            for i,user in enumerate(inrange_users):\n",
    "                if user.active:\n",
    "                    self.assigned_user = i\n",
    "                    break\n",
    "        else:\n",
    "            self.assigned_user = -1\n",
    "            \n",
    "        \n",
    "class User:\n",
    "    count = 0\n",
    "    \n",
    "    def __init__(self, x, y):\n",
    "        User.count += 1\n",
    "        self.x = x\n",
    "        self.y = y\n",
    "        self.channel = 0  \n",
    "        self.active = 0\n",
    "        self.activity_prob = 0.3\n",
    "        \n",
    "    def __str__(self):\n",
    "        return \"User at (\"+ str(self.x) + \", \" + str(self.y) + \") and channel \" + str(self.channel) + \" and active \" + str(self.active)\n",
    "    \n",
    "    def in_range_sniffers(self, sniffers):\n",
    "        range_sniffers = []\n",
    "        for snif in sniffers:\n",
    "            if snif.in_range(self.x, self.y):\n",
    "                range_sniffers.append(snif)\n",
    "        return range_sniffers\n",
    "    \n",
    "    def access_point_in_range(self, aps):\n",
    "        req = []\n",
    "        for ap in aps:\n",
    "            if ap.in_hexagon(self.x, self.y):\n",
    "                self.channel = ap.channel\n",
    "                break; \n",
    "                \n",
    "    def change_active(self):\n",
    "        if np.random.rand() <= self.activity_prob:\n",
    "            self.active = 1\n",
    "        else:\n",
    "            self.active = 0     "
   ]
  },
  {
   "cell_type": "code",
   "execution_count": 5,
   "metadata": {},
   "outputs": [],
   "source": [
    "sniffers = []\n",
    "for i in range(0, 550, 100):\n",
    "    for j in range(0, 550, 100):\n",
    "        sniffers.append(Sniffer(i,j))"
   ]
  },
  {
   "cell_type": "code",
   "execution_count": 6,
   "metadata": {},
   "outputs": [],
   "source": [
    "aps = []\n",
    "for i in range(0, 550, 86*3):\n",
    "    for j in range(0, 550, 86*2):\n",
    "        aps.append(AP(i,j))\n",
    "        \n",
    "for i in range(86+int(86/2), 550, 86*3):\n",
    "    for j in range(-86, 550+86, 86*2):\n",
    "        aps.append(AP(i,j))"
   ]
  },
  {
   "cell_type": "code",
   "execution_count": 7,
   "metadata": {},
   "outputs": [],
   "source": [
    "users = []\n",
    "for i in range(0, 300):\n",
    "        x = np.random.uniform(low=0, high=550, size=(1,))[0]\n",
    "        y = np.random.uniform(low=0, high=550, size=(1,))[0]\n",
    "        now = User(x, y)\n",
    "        now.access_point_in_range(aps)\n",
    "        now.change_active()\n",
    "        users.append(now)"
   ]
  },
  {
   "cell_type": "code",
   "execution_count": 8,
   "metadata": {},
   "outputs": [
    {
     "name": "stdout",
     "output_type": "stream",
     "text": [
      "Sniffer at (0, 0) and channel 0\n"
     ]
    }
   ],
   "source": [
    "print(sniffers[0])"
   ]
  },
  {
   "cell_type": "code",
   "execution_count": 9,
   "metadata": {},
   "outputs": [],
   "source": [
    "sniffers[0].assign_channel(0, users)"
   ]
  },
  {
   "cell_type": "code",
   "execution_count": 10,
   "metadata": {},
   "outputs": [
    {
     "data": {
      "text/plain": [
       "0"
      ]
     },
     "execution_count": 10,
     "metadata": {},
     "output_type": "execute_result"
    }
   ],
   "source": [
    "sniffers[0].assigned_user"
   ]
  },
  {
   "cell_type": "code",
   "execution_count": 11,
   "metadata": {},
   "outputs": [
    {
     "data": {
      "image/png": "[encoded data removed]",
      "text/plain": [
       "<Figure size 432x288 with 1 Axes>"
      ]
     },
     "metadata": {},
     "output_type": "display_data"
    }
   ],
   "source": [
    "x = [a.x for a in sniffers]\n",
    "y = [a.y for a in sniffers]\n",
    "\n",
    "x1 = [a.x for a in aps]\n",
    "y1 = [a.y for a in aps]\n",
    "\n",
    "x2 = [a.x for a in users]\n",
    "y2 = [a.y for a in users]\n",
    "\n",
    "fig = plt.figure()\n",
    "ax = fig.gca()\n",
    "ax.set_xticks(np.arange(0, 550, 50))\n",
    "ax.set_yticks(np.arange(0, 550, 50))\n",
    "\n",
    "for i, a in enumerate(aps):\n",
    "    if i%2 ==0:\n",
    "        circle = RegularPolygon((a.x, a.y), 6, radius=a.radius, color=\"yellow\", orientation=pi/2, alpha=0.3)\n",
    "    else:\n",
    "        circle = RegularPolygon((a.x, a.y), 6, radius=a.radius, color=\"green\", orientation=pi/2, alpha=0.3)\n",
    "    ax.add_patch(circle)\n",
    "    \n",
    "plt.scatter(x,y, color='black')\n",
    "plt.scatter(x1,y1, color='orange')    \n",
    "plt.scatter(x2,y2, marker = \"x\", color = \"red\")    \n",
    "\n",
    "ax.set_xlim(-50, 550)\n",
    "ax.set_ylim(-50, 550)\n",
    "plt.grid()\n",
    "plt.show()"
   ]
  },
  {
   "cell_type": "code",
   "execution_count": 12,
   "metadata": {},
   "outputs": [],
   "source": [
    "arr = [0,0,0]\n",
    "channels = 3\n",
    "sniffer_assign = [0, 2, 1]\n",
    "phi = []"
   ]
  },
  {
   "cell_type": "code",
   "execution_count": 13,
   "metadata": {},
   "outputs": [],
   "source": [
    "s_len = len(sniffer_assign)\n",
    "params = []"
   ]
  },
  {
   "cell_type": "code",
   "execution_count": 14,
   "metadata": {},
   "outputs": [],
   "source": [
    "def get_iden(arr, channel):\n",
    "    global sniffer_assign\n",
    "    arr = np.array(arr)\n",
    "    sniffer_assign = np.array(sniffer_assign)\n",
    "    indices = np.where(arr > 0)[0]\n",
    "    flag = 1\n",
    "    for index in indices:\n",
    "        if channel != sniffer_assign[index]:\n",
    "            output = 0\n",
    "            flag = 0\n",
    "            break\n",
    "    if flag == 1:\n",
    "        output = 1\n",
    "    return output"
   ]
  },
  {
   "cell_type": "code",
   "execution_count": 15,
   "metadata": {},
   "outputs": [],
   "source": [
    "def generate_phi(n):\n",
    "    now = [\"\".join(seq) for seq in itertools.product(\"01\", repeat=n)]\n",
    "#     print(now)\n",
    "    now.remove(\"\".join([str(0) for i in range(n)]))\n",
    "    for a in now:\n",
    "        a =  list(map(int, list(a)))\n",
    "        for channel in range(0, 3):\n",
    "            print(a, get_iden(a, channel), channel, sniffer_assign)\n",
    "        print(\"\")\n",
    "    \n",
    "    "
   ]
  },
  {
   "cell_type": "code",
   "execution_count": 16,
   "metadata": {
    "scrolled": true
   },
   "outputs": [
    {
     "name": "stdout",
     "output_type": "stream",
     "text": [
      "[0, 0, 1] 0 0 [0 2 1]\n",
      "[0, 0, 1] 1 1 [0 2 1]\n",
      "[0, 0, 1] 0 2 [0 2 1]\n",
      "\n",
      "[0, 1, 0] 0 0 [0 2 1]\n",
      "[0, 1, 0] 0 1 [0 2 1]\n",
      "[0, 1, 0] 1 2 [0 2 1]\n",
      "\n",
      "[0, 1, 1] 0 0 [0 2 1]\n",
      "[0, 1, 1] 0 1 [0 2 1]\n",
      "[0, 1, 1] 0 2 [0 2 1]\n",
      "\n",
      "[1, 0, 0] 1 0 [0 2 1]\n",
      "[1, 0, 0] 0 1 [0 2 1]\n",
      "[1, 0, 0] 0 2 [0 2 1]\n",
      "\n",
      "[1, 0, 1] 0 0 [0 2 1]\n",
      "[1, 0, 1] 0 1 [0 2 1]\n",
      "[1, 0, 1] 0 2 [0 2 1]\n",
      "\n",
      "[1, 1, 0] 0 0 [0 2 1]\n",
      "[1, 1, 0] 0 1 [0 2 1]\n",
      "[1, 1, 0] 0 2 [0 2 1]\n",
      "\n",
      "[1, 1, 1] 0 0 [0 2 1]\n",
      "[1, 1, 1] 0 1 [0 2 1]\n",
      "[1, 1, 1] 0 2 [0 2 1]\n",
      "\n"
     ]
    }
   ],
   "source": [
    "generate_phi(3)"
   ]
  },
  {
   "cell_type": "code",
   "execution_count": 17,
   "metadata": {},
   "outputs": [],
   "source": [
    "class ucb_agent():  \n",
    "    def __init__(self,k,alpha,sniffers):\n",
    "        self.arm_count = k\n",
    "        self.alpha = alpha\n",
    "#         self.arms_average_rewards = np.random.random(n)\n",
    "        self.N = np.zeros(((2**sniffers),k))\n",
    "#         self.arms_rewards = np.zeros((n,))\n",
    "        self.trials = 0\n",
    "        self.V = np.zeros((k,))\n",
    "        self.mean = np.zeros((k,))\n",
    "        self.theta = np.zeros(((2**sniffers),k))\n",
    "#         self.last_pick = 0\n",
    "#         self.optimal = optimal\n",
    "#         self.regret_hist = []\n",
    "#         self.regret = 0\n",
    "        \n",
    "    def get_action(self):\n",
    "#         out = np.argmax(arms)\n",
    "        self.trials += 1\n",
    "#         x = self.arms_average_rewards+((alpha*np.log(self.trials))/(((self.arm_count.astype(float)+1))))**0.5\n",
    "        out = np.argmax(self.V)\n",
    "#         self.last_pick = out\n",
    "#         self.arms_count[out] += 1\n",
    "        return out\n",
    "    def update_theta(self,Y,phi):\n",
    "        self.theta = self.theta + (Y-self.theta)*phi/self.N\n",
    "        self.N = self.N + phi\n",
    "    def update(self,Y,phi):\n",
    "        scale = (self.alpha*np.log(self.trials))**0.5\n",
    "        for i in range(self.arm_count):\n",
    "            self.V[i] = self.mean[i] + (scale)*np.sum(((1/self.N[:,i])**0.5)*phi[:,i])\n",
    "            self.mean[i] = np.dot(self.theta[:,i],phi[:,i])\n",
    "\n",
    "        \n",
    "#         self.arms_rewards[self.last_pick] += r\n",
    "#         self.arms_average_rewards = self.arms_average_rewards/self.arms_count\n",
    "        return \n",
    "    "
   ]
  },
  {
   "cell_type": "code",
   "execution_count": 18,
   "metadata": {},
   "outputs": [
    {
     "ename": "SyntaxError",
     "evalue": "invalid syntax (<ipython-input-18-89a01323376c>, line 2)",
     "output_type": "error",
     "traceback": [
      "\u001b[0;36m  File \u001b[0;32m\"<ipython-input-18-89a01323376c>\"\u001b[0;36m, line \u001b[0;32m2\u001b[0m\n\u001b[0;31m    for i in u\u001b[0m\n\u001b[0m              ^\u001b[0m\n\u001b[0;31mSyntaxError\u001b[0m\u001b[0;31m:\u001b[0m invalid syntax\n"
     ]
    }
   ],
   "source": [
    "agent = ucb_agent()\n",
    "for action in range(c):\n",
    "    for i in users:\n",
    "        i.change_active()\n",
    "    for j in sniffers:\n",
    "        j.assign_channel(action,users)\n",
    "\n",
    "    #     get Y\n",
    "    #     get phi\n",
    "    agent.update_theta(Y,phi)\n",
    "        \n",
    "        \n",
    "        \n",
    "for t in range(steps):\n",
    "    for i in users:\n",
    "        i.change_active()\n",
    "    action = agent.get_action()\n",
    "    for j in sniffers:\n",
    "        j.assign_channel(action,users)\n",
    "\n",
    "    #     get Y\n",
    "    #     get phi\n",
    "    if ():\n",
    "        agent.update_theta(Y,phi)\n",
    "    \n",
    "    "
   ]
  },
  {
   "cell_type": "code",
   "execution_count": null,
   "metadata": {},
   "outputs": [],
   "source": [
    "p_u = np.random.rand(user_count)\n",
    "c_u = np.random.randint(low=1,high=channel,size=user_count)\n",
    "positions_u = np.random.rand(size=(user_count,2))\n",
    "\n",
    "y = cvxpy.Parameter(user_count,boolean =True)\n",
    "z = cvxpy.Parameter((user_count,sniffer_count),boolean=True)\n",
    "\n",
    "\n",
    "con1 = []\n",
    "for i in range(user_count):\n",
    "    for j in range_[i]:\n",
    "        try:\n",
    "            x = cvxpy.sum(x,z[j,c[u]])\n",
    "        except:\n",
    "            x = z[j,c[u]]\n",
    "    con1.append(y[i]<=x)\n",
    "    \n",
    "con2 = []\n",
    "for i in range(channel):\n",
    "    con2.append(cvxpy.sum(z[:,i])<=1)\n",
    "\n",
    "constraints = con1 + con2\n",
    "obj = cvxpy.Maximize(cvxpy.sum(cvxpy.multiply(p_u,y)))\n",
    "\n",
    "\n",
    "problem = cvxpy.Problem(objective=obj,constraints=constraints)\n",
    "problem.solve()\n",
    "print (z.values)"
   ]
  }
 ],
 "metadata": {
  "kernelspec": {
   "display_name": "Python 3",
   "language": "python",
   "name": "python3"
  },
  "language_info": {
   "codemirror_mode": {
    "name": "ipython",
    "version": 3
   },
   "file_extension": ".py",
   "mimetype": "text/x-python",
   "name": "python",
   "nbconvert_exporter": "python",
   "pygments_lexer": "ipython3",
   "version": "3.6.7"
  }
 },
 "nbformat": 4,
 "nbformat_minor": 2
}
